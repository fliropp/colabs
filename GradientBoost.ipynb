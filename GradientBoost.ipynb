{
  "nbformat": 4,
  "nbformat_minor": 0,
  "metadata": {
    "colab": {
      "provenance": [],
      "authorship_tag": "ABX9TyMq33ryqV3Lh/d4ws/93mug",
      "include_colab_link": true
    },
    "kernelspec": {
      "name": "python3",
      "display_name": "Python 3"
    },
    "language_info": {
      "name": "python"
    }
  },
  "cells": [
    {
      "cell_type": "markdown",
      "metadata": {
        "id": "view-in-github",
        "colab_type": "text"
      },
      "source": [
        "<a href=\"https://colab.research.google.com/github/fliropp/colabs/blob/master/GradientBoost.ipynb\" target=\"_parent\"><img src=\"https://colab.research.google.com/assets/colab-badge.svg\" alt=\"Open In Colab\"/></a>"
      ]
    },
    {
      "cell_type": "code",
      "execution_count": 6,
      "metadata": {
        "id": "jtCbzroLI6k1"
      },
      "outputs": [],
      "source": [
        "import pandas as pd  \n",
        "import numpy as np\n",
        "from sklearn.model_selection import train_test_split\n",
        "from sklearn.ensemble import GradientBoostingClassifier\n",
        "from sklearn.ensemble import GradientBoostingRegressor\n",
        "from sklearn.model_selection import GridSearchCV\n",
        "from sklearn.metrics import accuracy_score\n",
        "from sklearn.metrics import mean_squared_error"
      ]
    },
    {
      "cell_type": "code",
      "source": [
        "dataset = pd.read_csv(\"water_potability.csv\")\n",
        "dataset.dropna(inplace=True)\n",
        "X = dataset.drop(\"Potability\", axis=1)\n",
        "y = dataset[\"Potability\"]\n",
        "X_train, X_test, y_train, y_test = train_test_split(X,y,test_size=0.20, random_state=1)"
      ],
      "metadata": {
        "id": "huLdQ6fJJOm3"
      },
      "execution_count": 3,
      "outputs": []
    },
    {
      "cell_type": "code",
      "source": [
        "params = {\n",
        "        \"n_estimators\": [5,10,50,100,250,500,750,1000],\n",
        "        \"max_depth\": [2, 3, 4, 5, 6, 7, 8, 9, 10, 15, 20, 25, 30, None]\n",
        "    }"
      ],
      "metadata": {
        "id": "ZweD5HMTJnhi"
      },
      "execution_count": 4,
      "outputs": []
    },
    {
      "cell_type": "code",
      "source": [
        "clf_model = GradientBoostingClassifier(random_state=1)\n",
        "\n",
        "cv_clf = GridSearchCV(clf_model,params)\n",
        "cv_clf.fit(X_train, y_train)"
      ],
      "metadata": {
        "id": "kJUeIGdoJamc"
      },
      "execution_count": null,
      "outputs": []
    },
    {
      "cell_type": "code",
      "source": [
        "rgs_model = GradientBoostingClassifier(random_state=1)\n",
        "\n",
        "cv_rgs = GridSearchCV(rgs_model,params)\n",
        "cv_rgs.fit(X_train, y_train)"
      ],
      "metadata": {
        "id": "qIszfJnNJz9H"
      },
      "execution_count": null,
      "outputs": []
    },
    {
      "cell_type": "code",
      "source": [
        "reg_model = GradientBoostingClassifier(random_state=1, learning_rate=0.1, \n",
        "                                       max_depth=cv_clf[\"max_depth\"], \n",
        "                                       n_estimators=cv_clf[\"n_estimator\"])\n",
        "reg_model.fit(X_train,y_train)"
      ],
      "metadata": {
        "id": "YGn74OpQLW5L"
      },
      "execution_count": null,
      "outputs": []
    },
    {
      "cell_type": "code",
      "source": [
        "cls_model = GradientBoostingClassifier(random_state=1, learning_rate=0.1,\n",
        "                                       max_depth=cv_rgs[\"max_depth\"],\n",
        "                                       n_estimators=cv_rgs[\"n_estimators\"])\n",
        "cls_model.fit(X_train,y_train)"
      ],
      "metadata": {
        "id": "rDhQnBkbNNPs"
      },
      "execution_count": null,
      "outputs": []
    },
    {
      "cell_type": "code",
      "source": [
        "cls_y_pred_test = cls_model.predict(X_test)"
      ],
      "metadata": {
        "id": "t9YyVw8OOXsK"
      },
      "execution_count": null,
      "outputs": []
    },
    {
      "cell_type": "code",
      "source": [
        "reg_y_pred_test = reg_model.predict(X_test)"
      ],
      "metadata": {
        "id": "spDsiX2cOez5"
      },
      "execution_count": null,
      "outputs": []
    },
    {
      "cell_type": "code",
      "source": [
        "print(\"Accuracy regression:  \", accuracy_score(y_test,reg_y_pred_test))"
      ],
      "metadata": {
        "id": "KMcHMnHUQK7g"
      },
      "execution_count": null,
      "outputs": []
    },
    {
      "cell_type": "code",
      "source": [
        "print(\"Accuracy classfication:  \", accuracy_score(y_test,cls_y_pred_test))"
      ],
      "metadata": {
        "id": "TOq4kHb7QS5D"
      },
      "execution_count": null,
      "outputs": []
    }
  ]
}