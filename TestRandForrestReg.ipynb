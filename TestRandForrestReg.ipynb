{
  "nbformat": 4,
  "nbformat_minor": 0,
  "metadata": {
    "colab": {
      "provenance": [],
      "authorship_tag": "ABX9TyMhprConYM2N6flOhJYow6G",
      "include_colab_link": true
    },
    "kernelspec": {
      "name": "python3",
      "display_name": "Python 3"
    },
    "language_info": {
      "name": "python"
    }
  },
  "cells": [
    {
      "cell_type": "markdown",
      "metadata": {
        "id": "view-in-github",
        "colab_type": "text"
      },
      "source": [
        "<a href=\"https://colab.research.google.com/github/fliropp/colabs/blob/master/TestRandForrestReg.ipynb\" target=\"_parent\"><img src=\"https://colab.research.google.com/assets/colab-badge.svg\" alt=\"Open In Colab\"/></a>"
      ]
    },
    {
      "cell_type": "code",
      "execution_count": 1,
      "metadata": {
        "id": "ICQsU7jx-q-C"
      },
      "outputs": [],
      "source": [
        "import pandas as pd\n",
        "from sklearn.model_selection import train_test_split\n",
        "from sklearn.ensemble import RandomForestClassifier\n",
        "from sklearn.metrics import accuracy_score\n",
        "from sklearn.model_selection import GridSearchCV"
      ]
    },
    {
      "cell_type": "markdown",
      "source": [
        "import dataset and create train / test split"
      ],
      "metadata": {
        "id": "Xpy573vw_gp8"
      }
    },
    {
      "cell_type": "code",
      "source": [
        "df = pd.read_csv('water_potability.csv')\n",
        "df.dropna(inplace=True)\n",
        "X = df.drop(\"Potability\", axis=1)\n",
        "y = df['Potability']\n",
        "\n",
        "X_train, X_test, y_train, y_test = train_test_split(X,y,test_size=0.20, random_state=1)"
      ],
      "metadata": {
        "id": "LNzmLamn_WX0"
      },
      "execution_count": 2,
      "outputs": []
    },
    {
      "cell_type": "markdown",
      "source": [
        "GridSearch for best hyper-params"
      ],
      "metadata": {
        "id": "MXIpWGPm_30K"
      }
    },
    {
      "cell_type": "code",
      "source": [
        "params = {\n",
        "        \"n_estimators\": [5,10,50,100,250,500,750,1000],\n",
        "        \"max_depth\": [2, 3, 4, 5, 6, 7, 8, 9, 10, 15, 20, 25, 30, None]\n",
        "    }\n",
        "model = RandomForestClassifier(random_state=1)\n",
        "\n",
        "cv = GridSearchCV(model,params)\n",
        "cv.fit(X_train, y_train)\n"
      ],
      "metadata": {
        "colab": {
          "base_uri": "https://localhost:8080/"
        },
        "id": "qUyAfvsk_1nz",
        "outputId": "0f71fa64-7bea-4e8a-836e-a86f8520903c"
      },
      "execution_count": 3,
      "outputs": [
        {
          "output_type": "execute_result",
          "data": {
            "text/plain": [
              "GridSearchCV(estimator=RandomForestClassifier(random_state=1),\n",
              "             param_grid={'max_depth': [2, 3, 4, 5, 6, 7, 8, 9, 10, 15, 20, 25,\n",
              "                                       30, None],\n",
              "                         'n_estimators': [5, 10, 50, 100, 250, 500, 750, 1000]})"
            ]
          },
          "metadata": {},
          "execution_count": 3
        }
      ]
    },
    {
      "cell_type": "markdown",
      "source": [
        "print best hyper params"
      ],
      "metadata": {
        "id": "mxzV1ZhAAFGj"
      }
    },
    {
      "cell_type": "code",
      "source": [
        "print(cv.best_params_)"
      ],
      "metadata": {
        "id": "2Zz2ncr0BXz6"
      },
      "execution_count": null,
      "outputs": []
    },
    {
      "cell_type": "markdown",
      "source": [
        "create naive and optimised models"
      ],
      "metadata": {
        "id": "zgTES6RZBh2j"
      }
    },
    {
      "cell_type": "code",
      "source": [
        "naive_model = RandomForestClassifier(random_state=1)\n",
        "optimised_model = RandomForestClassifier(random_state=1,max_depth=cv.best_params_[\"max_depth\"],n_estimators=cv.best_params_[\"n_estimators\"])"
      ],
      "metadata": {
        "id": "9NBVf26kAK0S"
      },
      "execution_count": null,
      "outputs": []
    },
    {
      "cell_type": "markdown",
      "source": [
        "fit models"
      ],
      "metadata": {
        "id": "u9iaagOcAfSm"
      }
    },
    {
      "cell_type": "code",
      "source": [
        "naive_model.fit(X_train,y_train)\n",
        "optimised_model.fit(X_train, y_train)"
      ],
      "metadata": {
        "id": "lEcQRH_9AirG"
      },
      "execution_count": null,
      "outputs": []
    },
    {
      "cell_type": "markdown",
      "source": [
        "test models"
      ],
      "metadata": {
        "id": "GvKHHKwnAwG0"
      }
    },
    {
      "cell_type": "code",
      "source": [
        "naive_y_pred_test = naive_model.predict(X_test)\n",
        "optimised_y_pred_test = optimised_model.predict(X_test)"
      ],
      "metadata": {
        "id": "YLw8UQ1wA0A_"
      },
      "execution_count": null,
      "outputs": []
    },
    {
      "cell_type": "markdown",
      "source": [
        "print results"
      ],
      "metadata": {
        "id": "mwVrsPuaBBxt"
      }
    },
    {
      "cell_type": "code",
      "source": [
        "print(\"naive test accuracy: \", accuracy_score(y_test, naive_y_pred_test))\n",
        "print(\"optimised test accuracy: \", accuracy_score(y_test, optimised_y_pred_test))\n"
      ],
      "metadata": {
        "id": "lTsSoMTJBEfx"
      },
      "execution_count": null,
      "outputs": []
    }
  ]
}